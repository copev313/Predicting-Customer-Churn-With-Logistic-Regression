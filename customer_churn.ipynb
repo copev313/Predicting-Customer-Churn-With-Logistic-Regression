{
  "nbformat": 4,
  "nbformat_minor": 0,
  "metadata": {
    "colab": {
      "name": "Predicting-Customer-Churn-With-Logistic-Regression.ipynb",
      "provenance": [],
      "collapsed_sections": [],
      "toc_visible": true,
      "authorship_tag": "ABX9TyMNZG8PEGVg4vkoRio+gxXL",
      "include_colab_link": true
    },
    "kernelspec": {
      "name": "python3",
      "display_name": "Python 3"
    },
    "language_info": {
      "name": "python"
    }
  },
  "cells": [
    {
      "cell_type": "markdown",
      "metadata": {
        "id": "view-in-github",
        "colab_type": "text"
      },
      "source": [
        "<a href=\"https://colab.research.google.com/github/copev313/Predicting-Customer-Churn-With-Logistic-Regression/blob/main/customer_churn.ipynb\" target=\"_parent\"><img src=\"https://colab.research.google.com/assets/colab-badge.svg\" alt=\"Open In Colab\"/></a>"
      ]
    },
    {
      "cell_type": "markdown",
      "metadata": {
        "id": "DZWBjYHuPZPa"
      },
      "source": [
        "# **Predicting Customer Churn Rate Using Python & Machine Learning**"
      ]
    },
    {
      "cell_type": "markdown",
      "metadata": {
        "id": "xNqeDNwWPmYL"
      },
      "source": [
        "## Introduction\n",
        "\n",
        "This demonstration will be predicting customer churn rate given various properties provided by the customer's account.\n",
        "\n",
        "Let's start by importing the libraries and data we will be using."
      ]
    },
    {
      "cell_type": "code",
      "metadata": {
        "id": "Y6Yk-LWBQ-hK"
      },
      "source": [
        "!pip install numpy pandas scikit-learn matplotlib seaborn --quiet"
      ],
      "execution_count": 1,
      "outputs": []
    },
    {
      "cell_type": "code",
      "metadata": {
        "id": "QVthw328PQ80"
      },
      "source": [
        "import numpy as np\n",
        "import pandas as pd\n",
        "import sklearn\n",
        "import matplotlib.pyplot as plt\n",
        "import seaborn as sns\n",
        "\n",
        "from sklearn.preprocessing import LabelEncoder, StandardScaler\n",
        "from sklearn.metrics import classification_report\n",
        "from sklearn.linear_model import LogisticRegression\n",
        "from sklearn.model_selection import train_test_split\n"
      ],
      "execution_count": 59,
      "outputs": []
    },
    {
      "cell_type": "code",
      "metadata": {
        "colab": {
          "base_uri": "https://localhost:8080/"
        },
        "id": "13u6TexeRLhC",
        "outputId": "6af93da4-0f7c-4dd8-cda7-a9bcddc0d97b"
      },
      "source": [
        "# Load our data into a DataFrame\n",
        "df = pd.read_csv('churn.csv')\n",
        "\n",
        "# See a preview:\n",
        "print(df.head(10))"
      ],
      "execution_count": 60,
      "outputs": [
        {
          "output_type": "stream",
          "text": [
            "   customerID  gender  SeniorCitizen  ... MonthlyCharges TotalCharges  Churn\n",
            "0  7590-VHVEG  Female              0  ...          29.85        29.85     No\n",
            "1  5575-GNVDE    Male              0  ...          56.95       1889.5     No\n",
            "2  3668-QPYBK    Male              0  ...          53.85       108.15    Yes\n",
            "3  7795-CFOCW    Male              0  ...          42.30      1840.75     No\n",
            "4  9237-HQITU  Female              0  ...          70.70       151.65    Yes\n",
            "5  9305-CDSKC  Female              0  ...          99.65        820.5    Yes\n",
            "6  1452-KIOVK    Male              0  ...          89.10       1949.4     No\n",
            "7  6713-OKOMC  Female              0  ...          29.75        301.9     No\n",
            "8  7892-POOKP  Female              0  ...         104.80      3046.05    Yes\n",
            "9  6388-TABGU    Male              0  ...          56.15      3487.95     No\n",
            "\n",
            "[10 rows x 21 columns]\n"
          ],
          "name": "stdout"
        }
      ]
    },
    {
      "cell_type": "markdown",
      "metadata": {
        "id": "CM5oLJdRS-E9"
      },
      "source": [
        "## Getting to Know Our Data"
      ]
    },
    {
      "cell_type": "code",
      "metadata": {
        "colab": {
          "base_uri": "https://localhost:8080/"
        },
        "id": "Fk14jtcnRg8x",
        "outputId": "f12f78a7-16f0-4f4d-a091-801d96bd76f3"
      },
      "source": [
        "# Look at the dimensions of our DataFrame\n",
        "print('Shape:\\n', df.shape, '\\n')\n",
        "\n",
        "# List all the column titles in our table:\n",
        "print('Columns:\\n', df.columns.values, '\\n')\n",
        "\n",
        "# Check columns for missing values:\n",
        "print('Missing Values:\\n', df.isna().sum(), '\\n')\n"
      ],
      "execution_count": 61,
      "outputs": [
        {
          "output_type": "stream",
          "text": [
            "Shape:\n",
            " (7043, 21) \n",
            "\n",
            "Columns:\n",
            " ['customerID' 'gender' 'SeniorCitizen' 'Partner' 'Dependents' 'tenure'\n",
            " 'PhoneService' 'MultipleLines' 'InternetService' 'OnlineSecurity'\n",
            " 'OnlineBackup' 'DeviceProtection' 'TechSupport' 'StreamingTV'\n",
            " 'StreamingMovies' 'Contract' 'PaperlessBilling' 'PaymentMethod'\n",
            " 'MonthlyCharges' 'TotalCharges' 'Churn'] \n",
            "\n",
            "Missing Values:\n",
            " customerID          0\n",
            "gender              0\n",
            "SeniorCitizen       0\n",
            "Partner             0\n",
            "Dependents          0\n",
            "tenure              0\n",
            "PhoneService        0\n",
            "MultipleLines       0\n",
            "InternetService     0\n",
            "OnlineSecurity      0\n",
            "OnlineBackup        0\n",
            "DeviceProtection    0\n",
            "TechSupport         0\n",
            "StreamingTV         0\n",
            "StreamingMovies     0\n",
            "Contract            0\n",
            "PaperlessBilling    0\n",
            "PaymentMethod       0\n",
            "MonthlyCharges      0\n",
            "TotalCharges        0\n",
            "Churn               0\n",
            "dtype: int64 \n",
            "\n"
          ],
          "name": "stdout"
        }
      ]
    },
    {
      "cell_type": "code",
      "metadata": {
        "colab": {
          "base_uri": "https://localhost:8080/"
        },
        "id": "CDnYsGywSWYN",
        "outputId": "cf4f1d1a-58f1-496f-fc56-1ac3bfbb6805"
      },
      "source": [
        "# Summary Statistics:\n",
        "print(df.describe(), '/n')\n",
        "\n",
        "# Get customer churn count:\n",
        "print('\\n--Churn Value Counts--\\n', df['Churn'].value_counts())"
      ],
      "execution_count": 62,
      "outputs": [
        {
          "output_type": "stream",
          "text": [
            "       SeniorCitizen       tenure  MonthlyCharges\n",
            "count    7043.000000  7043.000000     7043.000000\n",
            "mean        0.162147    32.371149       64.761692\n",
            "std         0.368612    24.559481       30.090047\n",
            "min         0.000000     0.000000       18.250000\n",
            "25%         0.000000     9.000000       35.500000\n",
            "50%         0.000000    29.000000       70.350000\n",
            "75%         0.000000    55.000000       89.850000\n",
            "max         1.000000    72.000000      118.750000 /n\n",
            "\n",
            "--Churn Value Counts--\n",
            " No     5174\n",
            "Yes    1869\n",
            "Name: Churn, dtype: int64\n"
          ],
          "name": "stdout"
        }
      ]
    },
    {
      "cell_type": "markdown",
      "metadata": {
        "id": "C-K9FUipTINC"
      },
      "source": [
        "## Visualizing Customer Churn"
      ]
    },
    {
      "cell_type": "markdown",
      "metadata": {
        "id": "FwsyUjsEWnq9"
      },
      "source": [
        "### Churn Total Count"
      ]
    },
    {
      "cell_type": "code",
      "metadata": {
        "colab": {
          "base_uri": "https://localhost:8080/",
          "height": 329
        },
        "id": "08PPJVP1TMke",
        "outputId": "9ca949ce-e720-4ea0-d105-5fb5ce5bfb94"
      },
      "source": [
        "# Create a bar graph of our count:\n",
        "sns.countplot(data=df, x='Churn').set(title=\"Churn Rate Count\")\n",
        "\n",
        "# Define yes/no conditions:\n",
        "NO = df['Churn'] == 'No'\n",
        "YES = df['Churn'] == 'Yes'\n",
        "\n",
        "num_retained = df[NO].shape[0]\n",
        "num_churned = df[YES].shape[0]\n",
        "\n",
        "# Percentage of customer that have stayed vs. those who've left:\n",
        "retain_rate = num_retained/(num_churned + num_retained) * 100\n",
        "churn_rate = num_churned/(num_churned + num_retained) * 100\n",
        "\n",
        "print(round(retain_rate, 3), \"% of customers stayed.\")\n",
        "print(round(churn_rate, 3), \"% of customers left.\")"
      ],
      "execution_count": 73,
      "outputs": [
        {
          "output_type": "stream",
          "text": [
            "73.463 % of customers stayed.\n",
            "26.537 % of customers left.\n"
          ],
          "name": "stdout"
        },
        {
          "output_type": "display_data",
          "data": {
            "image/png": "[encoded data removed]",
            "text/plain": [
              "<Figure size 432x288 with 1 Axes>"
            ]
          },
          "metadata": {
            "tags": [],
            "needs_background": "light"
          }
        }
      ]
    },
    {
      "cell_type": "markdown",
      "metadata": {
        "id": "KgmN8cJqWdFC"
      },
      "source": [
        "### Churn by Gender"
      ]
    },
    {
      "cell_type": "code",
      "metadata": {
        "colab": {
          "base_uri": "https://localhost:8080/",
          "height": 296
        },
        "id": "GvqKyPc0WYjG",
        "outputId": "9bfe461f-d97e-4398-ba19-663997d6a27c"
      },
      "source": [
        "# Create bar graph based on gender:\n",
        "sns.countplot(data=df, x='gender', hue='Churn')"
      ],
      "execution_count": 64,
      "outputs": [
        {
          "output_type": "execute_result",
          "data": {
            "text/plain": [
              "<matplotlib.axes._subplots.AxesSubplot at 0x7fcb89246990>"
            ]
          },
          "metadata": {
            "tags": []
          },
          "execution_count": 64
        },
        {
          "output_type": "display_data",
          "data": {
            "image/png": "[encoded data removed]",
            "text/plain": [
              "<Figure size 432x288 with 1 Axes>"
            ]
          },
          "metadata": {
            "tags": [],
            "needs_background": "light"
          }
        }
      ]
    },
    {
      "cell_type": "markdown",
      "metadata": {
        "id": "vXMnwkdxXGhd"
      },
      "source": [
        "### Churn by Internet Service"
      ]
    },
    {
      "cell_type": "code",
      "metadata": {
        "colab": {
          "base_uri": "https://localhost:8080/",
          "height": 296
        },
        "id": "cHOO6P-iXKGm",
        "outputId": "150700d7-687b-48c8-b597-59a737d4a3ac"
      },
      "source": [
        "# Create bar graph based on customer's internet service:\n",
        "sns.countplot(data=df, x='InternetService', hue='Churn')"
      ],
      "execution_count": 65,
      "outputs": [
        {
          "output_type": "execute_result",
          "data": {
            "text/plain": [
              "<matplotlib.axes._subplots.AxesSubplot at 0x7fcb7b513250>"
            ]
          },
          "metadata": {
            "tags": []
          },
          "execution_count": 65
        },
        {
          "output_type": "display_data",
          "data": {
            "image/png": "[encoded data removed]",
            "text/plain": [
              "<Figure size 432x288 with 1 Axes>"
            ]
          },
          "metadata": {
            "tags": [],
            "needs_background": "light"
          }
        }
      ]
    },
    {
      "cell_type": "code",
      "metadata": {
        "colab": {
          "base_uri": "https://localhost:8080/",
          "height": 287
        },
        "id": "gIOPQDGrXj4b",
        "outputId": "6d0cb33d-4e72-4f71-f458-519813702d46"
      },
      "source": [
        "numeric_features = ['tenure', 'MonthlyCharges']\n",
        "\n",
        "fig, ax = plt.subplots(nrows=1, ncols=2, figsize=(28, 8))\n",
        "\n",
        "df[NO][numeric_features].hist(\n",
        "    bins=20, color='blue', alpha=0.5, ax=ax\n",
        ")\n",
        "\n",
        "df[YES][numeric_features].hist(\n",
        "    bins=20, color='orange', alpha=0.5, ax=ax\n",
        ")\n"
      ],
      "execution_count": 66,
      "outputs": [
        {
          "output_type": "execute_result",
          "data": {
            "text/plain": [
              "array([<matplotlib.axes._subplots.AxesSubplot object at 0x7fcb7b490610>,\n",
              "       <matplotlib.axes._subplots.AxesSubplot object at 0x7fcb7b4540d0>],\n",
              "      dtype=object)"
            ]
          },
          "metadata": {
            "tags": []
          },
          "execution_count": 66
        },
        {
          "output_type": "display_data",
          "data": {
            "image/png": "[encoded data removed]",
            "text/plain": [
              "<Figure size 2016x576 with 2 Axes>"
            ]
          },
          "metadata": {
            "tags": [],
            "needs_background": "light"
          }
        }
      ]
    },
    {
      "cell_type": "markdown",
      "metadata": {
        "id": "JEslOkg5aBn6"
      },
      "source": [
        "## Clean Our Data"
      ]
    },
    {
      "cell_type": "code",
      "metadata": {
        "colab": {
          "base_uri": "https://localhost:8080/"
        },
        "id": "Xzb8rnoKaFqx",
        "outputId": "3dab0533-e5be-4296-d675-8700b39c11d6"
      },
      "source": [
        "# Drop the id column:\n",
        "clean_df = df.drop('customerID', axis=1)\n",
        "\n",
        "# Convert non-numerical values to numerical:\n",
        "for col in clean_df.columns:\n",
        "  if (clean_df[col].dtype == np.number):\n",
        "    continue\n",
        "  clean_df[col] = LabelEncoder().fit_transform(clean_df[col])\n",
        "\n",
        "# See the data types of our columns:\n",
        "print(clean_df.dtypes)\n"
      ],
      "execution_count": 67,
      "outputs": [
        {
          "output_type": "stream",
          "text": [
            "gender                int64\n",
            "SeniorCitizen         int64\n",
            "Partner               int64\n",
            "Dependents            int64\n",
            "tenure                int64\n",
            "PhoneService          int64\n",
            "MultipleLines         int64\n",
            "InternetService       int64\n",
            "OnlineSecurity        int64\n",
            "OnlineBackup          int64\n",
            "DeviceProtection      int64\n",
            "TechSupport           int64\n",
            "StreamingTV           int64\n",
            "StreamingMovies       int64\n",
            "Contract              int64\n",
            "PaperlessBilling      int64\n",
            "PaymentMethod         int64\n",
            "MonthlyCharges      float64\n",
            "TotalCharges          int64\n",
            "Churn                 int64\n",
            "dtype: object\n"
          ],
          "name": "stdout"
        },
        {
          "output_type": "stream",
          "text": [
            "/usr/local/lib/python3.7/dist-packages/ipykernel_launcher.py:6: DeprecationWarning: Converting `np.inexact` or `np.floating` to a dtype is deprecated. The current result is `float64` which is not strictly correct.\n",
            "  \n"
          ],
          "name": "stderr"
        }
      ]
    },
    {
      "cell_type": "code",
      "metadata": {
        "colab": {
          "base_uri": "https://localhost:8080/"
        },
        "id": "02hCQlyebNLh",
        "outputId": "01b1a4d2-b9e4-4ff9-c73c-6e45922afb1d"
      },
      "source": [
        "# Preview our new DataFrame:\n",
        "print(clean_df.head(10))"
      ],
      "execution_count": 68,
      "outputs": [
        {
          "output_type": "stream",
          "text": [
            "   gender  SeniorCitizen  Partner  ...  MonthlyCharges  TotalCharges  Churn\n",
            "0       0              0        1  ...           29.85          2505      0\n",
            "1       1              0        0  ...           56.95          1466      0\n",
            "2       1              0        0  ...           53.85           157      1\n",
            "3       1              0        0  ...           42.30          1400      0\n",
            "4       0              0        0  ...           70.70           925      1\n",
            "5       0              0        0  ...           99.65          6104      1\n",
            "6       1              0        0  ...           89.10          1550      0\n",
            "7       0              0        0  ...           29.75          2609      0\n",
            "8       0              0        1  ...          104.80          2646      1\n",
            "9       1              0        0  ...           56.15          3022      0\n",
            "\n",
            "[10 rows x 20 columns]\n"
          ],
          "name": "stdout"
        }
      ]
    },
    {
      "cell_type": "markdown",
      "metadata": {
        "id": "Es_wyjk2bju3"
      },
      "source": [
        "## Scale & Split the Data Set"
      ]
    },
    {
      "cell_type": "code",
      "metadata": {
        "id": "I4frNz9Qbp3n"
      },
      "source": [
        "# Scale the data set:\n",
        "x = clean_df.drop('Churn', axis=1)\n",
        "y = clean_df['Churn']\n",
        "x = StandardScaler().fit_transform(x)\n",
        "\n",
        "# Split the data 80 training/20 testing:\n",
        "xtrain, xtest, ytrain, ytest = train_test_split(x, y, test_size=0.2, random_state=7)\n"
      ],
      "execution_count": 69,
      "outputs": []
    },
    {
      "cell_type": "markdown",
      "metadata": {
        "id": "twmrQGIScakn"
      },
      "source": [
        "## Build & Train Our Model"
      ]
    },
    {
      "cell_type": "code",
      "metadata": {
        "colab": {
          "base_uri": "https://localhost:8080/"
        },
        "id": "7huuyEn_ce93",
        "outputId": "7b6d3e88-898d-4223-dbd1-de20e1ca4e2b"
      },
      "source": [
        "# Use the logisitic regression algorithm:\n",
        "model = LogisticRegression()\n",
        "\n",
        "# Train our model / fit our data:\n",
        "model.fit(xtrain, ytrain)\n"
      ],
      "execution_count": 70,
      "outputs": [
        {
          "output_type": "execute_result",
          "data": {
            "text/plain": [
              "LogisticRegression(C=1.0, class_weight=None, dual=False, fit_intercept=True,\n",
              "                   intercept_scaling=1, l1_ratio=None, max_iter=100,\n",
              "                   multi_class='auto', n_jobs=None, penalty='l2',\n",
              "                   random_state=None, solver='lbfgs', tol=0.0001, verbose=0,\n",
              "                   warm_start=False)"
            ]
          },
          "metadata": {
            "tags": []
          },
          "execution_count": 70
        }
      ]
    },
    {
      "cell_type": "markdown",
      "metadata": {
        "id": "Q-gsXNCDc58p"
      },
      "source": [
        "## Make Our Predictions & Calculate the Accuracy"
      ]
    },
    {
      "cell_type": "code",
      "metadata": {
        "colab": {
          "base_uri": "https://localhost:8080/"
        },
        "id": "52Em9SPKc8vq",
        "outputId": "72f18a00-a992-47be-9a9e-eabbc461ec1a"
      },
      "source": [
        "# Create predictions from the test data:\n",
        "predictions = model.predict(xtest)\n",
        "\n",
        "# See preview of predictions:\n",
        "print(predictions)\n"
      ],
      "execution_count": 71,
      "outputs": [
        {
          "output_type": "stream",
          "text": [
            "[0 1 1 ... 0 0 1]\n"
          ],
          "name": "stdout"
        }
      ]
    },
    {
      "cell_type": "code",
      "metadata": {
        "colab": {
          "base_uri": "https://localhost:8080/"
        },
        "id": "7nuFOb7sdOtK",
        "outputId": "a3475cc4-8624-4b4f-a3ef-7e1f30ef73a1"
      },
      "source": [
        "# Create a report of the accuracy of our classifications:\n",
        "report = classification_report(ytest, predictions)\n",
        "\n",
        "print(report)"
      ],
      "execution_count": 72,
      "outputs": [
        {
          "output_type": "stream",
          "text": [
            "              precision    recall  f1-score   support\n",
            "\n",
            "           0       0.84      0.91      0.88      1021\n",
            "           1       0.71      0.56      0.62       388\n",
            "\n",
            "    accuracy                           0.81      1409\n",
            "   macro avg       0.77      0.73      0.75      1409\n",
            "weighted avg       0.81      0.81      0.81      1409\n",
            "\n"
          ],
          "name": "stdout"
        }
      ]
    }
  ]
}